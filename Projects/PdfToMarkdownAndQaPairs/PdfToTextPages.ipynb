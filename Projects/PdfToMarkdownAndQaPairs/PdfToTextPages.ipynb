{
 "cells": [
  {
   "cell_type": "code",
   "execution_count": null,
   "metadata": {},
   "outputs": [],
   "source": [
    "%pip install pypdf"
   ]
  },
  {
   "cell_type": "code",
   "execution_count": null,
   "metadata": {},
   "outputs": [],
   "source": [
    "import os\n",
    "from pypdf import PdfReader\n",
    "\n",
    "def extract_pdf_pages(input_folder, output_folder):\n",
    "    # Create the output folder if it doesn't exist\n",
    "    if not os.path.exists(output_folder):\n",
    "        os.makedirs(output_folder)\n",
    "\n",
    "    # Iterate through all files in the input folder\n",
    "    for pdf_file in os.listdir(input_folder):\n",
    "        # Construct the full file path\n",
    "        pdf_path = os.path.join(input_folder, pdf_file)\n",
    "\n",
    "        # Check if the file is a PDF\n",
    "        if pdf_file.endswith('.pdf'):\n",
    "            # Create a folder for the PDF in the output folder\n",
    "            pdf_output_folder = os.path.join(output_folder, os.path.splitext(pdf_file)[0])\n",
    "            if not os.path.exists(pdf_output_folder):\n",
    "                os.makedirs(pdf_output_folder)\n",
    "\n",
    "            # Read the PDF\n",
    "            reader = PdfReader(pdf_path)\n",
    "            num_pages = len(reader.pages)\n",
    "\n",
    "            # Extract and save each page as a separate text file\n",
    "            for i in range(num_pages):\n",
    "                page = reader.pages[i]\n",
    "                page_text = page.extract_text()\n",
    "                digits = len(str(num_pages))\n",
    "                # Create the output file path\n",
    "                output_file_path = os.path.join(pdf_output_folder, f'Page_{str(i+1).zfill(digits)}.txt')\n",
    "\n",
    "                # Save the extracted text to the file\n",
    "                with open(output_file_path, 'w', encoding='utf-8') as output_file:\n",
    "                    output_file.write(page_text)\n",
    "\n",
    "# Example usage\n",
    "input_folder = './Input'\n",
    "output_folder = './ToText'\n",
    "extract_pdf_pages(input_folder, output_folder)\n"
   ]
  }
 ],
 "metadata": {
  "kernelspec": {
   "display_name": "openai",
   "language": "python",
   "name": "python3"
  },
  "language_info": {
   "codemirror_mode": {
    "name": "ipython",
    "version": 3
   },
   "file_extension": ".py",
   "mimetype": "text/x-python",
   "name": "python",
   "nbconvert_exporter": "python",
   "pygments_lexer": "ipython3",
   "version": "3.12.3"
  }
 },
 "nbformat": 4,
 "nbformat_minor": 2
}
