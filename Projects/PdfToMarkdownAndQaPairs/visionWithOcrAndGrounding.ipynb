{
 "cells": [
  {
   "cell_type": "code",
   "execution_count": null,
   "metadata": {
    "dotnet_interactive": {
     "language": "csharp"
    },
    "polyglot_notebook": {
     "kernelName": "csharp"
    }
   },
   "outputs": [],
   "source": [
    "# %pip install openai"
   ]
  },
  {
   "cell_type": "code",
   "execution_count": null,
   "metadata": {
    "dotnet_interactive": {
     "language": "csharp"
    },
    "polyglot_notebook": {
     "kernelName": "csharp"
    }
   },
   "outputs": [],
   "source": [
    "from openai import OpenAI\n",
    "from openai import AzureOpenAI\n",
    "\n",
    "api_base = '' # your endpoint should look like the following https://YOUR_RESOURCE_NAME.openai.azure.com/\n",
    "api_key=\"\"\n",
    "deployment_name = 'gpt-4-vision'\n",
    "api_version = '2023-12-01-preview' # this might change in the future\n",
    "\n",
    "client = AzureOpenAI(\n",
    "    api_key=api_key,  \n",
    "    api_version=api_version,\n",
    "    base_url=f\"\",\n",
    ")"
   ]
  },
  {
   "cell_type": "code",
   "execution_count": null,
   "metadata": {
    "dotnet_interactive": {
     "language": "csharp"
    },
    "polyglot_notebook": {
     "kernelName": "csharp"
    }
   },
   "outputs": [],
   "source": [
    "import base64\n",
    "from pathlib import Path\n",
    "\n",
    "prompt = \"\"\"\n",
    "Give me the markdown text output from this page in a PDF using formatting to match the structure of the page as close as you can get. \n",
    "\n",
    "Only output the markdown and nothing else. Do not explain the output, just return it. \n",
    "\n",
    "Do not use a single # for a heading. All headings will start with ## or ###. \n",
    "\n",
    "Convert tables to markdown tables. \n",
    "\n",
    "Take great care to ensure the precision and accuracy of numbers especially longer series of digits - do not transcribe or reorder the digits! \n",
    "\n",
    "Describe charts and images as best you can and, when possible use mermaidjs format.\n",
    "\n",
    "DO NOT return in a codeblock. Just return the raw text in markdown format.\n",
    "\n",
    "Remove any irrelevant text from the markdown, returning the cleaned up version of the content. Examples include any images []() or 'click here' or 'Listen to this article' or page numbers or logos.\"\n",
    "\"\"\"\n",
    "\n",
    "def encode_image_to_base64(image_path):\n",
    "    with open(image_path, \"rb\") as image_file:\n",
    "        return base64.b64encode(image_file.read()).decode('utf-8')\n",
    "\n",
    "def image_to_markdown(base64_image, retries=5, timeout=90):\n",
    "    try:\n",
    "        response = client.chat.completions.create(\n",
    "            model=\"gpt-4-vision\",\n",
    "            messages=[\n",
    "                { \"role\": \"system\", \"content\": \"You are a helpful assistant.\" },\n",
    "                { \"role\": \"user\", \"content\": [  \n",
    "                    { \n",
    "                        \"type\": \"text\", \n",
    "                        \"text\": prompt \n",
    "                    },\n",
    "                    { \n",
    "                        \"type\": \"image_url\",\n",
    "                        \"image_url\": {\n",
    "                            \"url\": f\"data:image/jpeg;base64,{base64_image}\"\n",
    "                        }\n",
    "                    }\n",
    "                ] } \n",
    "            ],\n",
    "            extra_body={\n",
    "                \"dataSources\": [\n",
    "                    {\n",
    "                        \"type\": \"AzureComputerVision\",\n",
    "                        \"parameters\": {\n",
    "                            \"endpoint\": \"\",\n",
    "                            \"key\": \"\"\n",
    "                        }\n",
    "                    }],\n",
    "                \"enhancements\": {\n",
    "                    \"ocr\": {\n",
    "                        \"enabled\": True\n",
    "                    },\n",
    "                    \"grounding\": {\n",
    "                        \"enabled\": True\n",
    "                    }\n",
    "                }\n",
    "            },\n",
    "            max_tokens=4096 \n",
    "        )\n",
    "        return response.choices[0].message.content\n",
    "    except Exception as e:\n",
    "        print(f\"An error occurred: {e}\")\n",
    "        return \"\" \n",
    "\n",
    "def process_images_to_markdown(input_dir, output_dir, pages_per_folder=None):  \n",
    "    for pdf_folder in Path(input_dir).iterdir():  \n",
    "        if pdf_folder.is_dir():  \n",
    "            output_folder_path = Path(output_dir) / pdf_folder.name  \n",
    "            output_folder_path.mkdir(parents=True, exist_ok=True)  \n",
    "              \n",
    "            images = sorted(pdf_folder.iterdir(), key=lambda x: x.stem)  \n",
    "            for image_index, image_path in enumerate(images):  \n",
    "                if pages_per_folder is not None and image_index >= pages_per_folder:  \n",
    "                    break  # Stop processing if the page limit is reached  \n",
    "                output_path = output_folder_path / f\"{image_path.stem}.md\"  \n",
    "                if output_path.exists():  \n",
    "                    print(f\"Skipping {output_path}, already exists.\")  \n",
    "                    continue  \n",
    "                print(f\"Processing {image_path.name}...\")  \n",
    "                base64_image = encode_image_to_base64(str(image_path))  \n",
    "                markdown_content = image_to_markdown(base64_image)  \n",
    "                with open(output_path, 'w') as f:  \n",
    "                    f.write(markdown_content)  \n",
    "                    print(f\"Markdown for {image_path.name} saved to {output_path}\")  \n",
    "  \n",
    "input_directory = './ToImages'  \n",
    "output_directory = './ToMarkdownGPT4VandOCRAndGrounding'  \n",
    "process_images_to_markdown(input_directory, output_directory, pages_per_folder=25)\n",
    "  \n",
    "print(\"All images converted to markdown.\")  "
   ]
  },
  {
   "cell_type": "code",
   "execution_count": null,
   "metadata": {
    "dotnet_interactive": {
     "language": "csharp"
    },
    "polyglot_notebook": {
     "kernelName": "csharp"
    }
   },
   "outputs": [],
   "source": [
    "from pathlib import Path\n",
    "\n",
    "def stitch_markdown_in_folders(output_directory):\n",
    "    output_dir_path = Path(output_directory)\n",
    "    \n",
    "    # Iterate over each folder in the output directory\n",
    "    for folder_path in output_dir_path.iterdir():\n",
    "        if folder_path.is_dir():\n",
    "            output_file_path = folder_path / f\"{folder_path.name}.md\"\n",
    "            markdown_content = []\n",
    "            \n",
    "            # Collect and combine markdown files from the current folder\n",
    "            for markdown_file in sorted(folder_path.glob(\"*.md\"), key=lambda x: x.stem):\n",
    "                with open(markdown_file, 'r') as file:\n",
    "                    markdown_content.append(file.read())\n",
    "                    markdown_content.append(\"\\n\\n\")  # Add space between documents\n",
    "            \n",
    "            # Save the combined content to a new markdown file named after the folder\n",
    "            with open(output_file_path, 'w') as output_file:\n",
    "                output_file.write(''.join(markdown_content))\n",
    "            print(f\"All markdown files stitched into {output_file_path}\")\n",
    "\n",
    "# Example usage:\n",
    "\n",
    "stitch_markdown_in_folders(output_directory)\n"
   ]
  }
 ],
 "metadata": {
  "kernelspec": {
   "display_name": "openai",
   "language": "python",
   "name": "python3"
  },
  "language_info": {
   "codemirror_mode": {
    "name": "ipython",
    "version": 3
   },
   "file_extension": ".py",
   "mimetype": "text/x-python",
   "name": "python",
   "nbconvert_exporter": "python",
   "pygments_lexer": "ipython3",
   "version": "3.12.3"
  },
  "polyglot_notebook": {
   "kernelInfo": {
    "defaultKernelName": "csharp",
    "items": [
     {
      "aliases": [],
      "name": "csharp"
     }
    ]
   }
  }
 },
 "nbformat": 4,
 "nbformat_minor": 2
}
