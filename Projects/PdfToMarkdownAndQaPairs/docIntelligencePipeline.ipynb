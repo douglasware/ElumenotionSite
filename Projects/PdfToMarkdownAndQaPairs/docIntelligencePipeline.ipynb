{
 "cells": [
  {
   "cell_type": "markdown",
   "metadata": {},
   "source": [
    "## Get the dependencies"
   ]
  },
  {
   "cell_type": "markdown",
   "id": "9a51698b",
   "metadata": {},
   "source": [
    "Import necessary namespaces for handling web requests, JSON operations, file I/O, and Azure services. These imports prepare the environment for executing tasks related to document intelligence and AI processing."
   ]
  },
  {
   "cell_type": "code",
   "execution_count": null,
   "metadata": {
    "dotnet_interactive": {
     "language": "csharp"
    },
    "polyglot_notebook": {
     "kernelName": "csharp"
    }
   },
   "outputs": [],
   "source": [
    "#r \"nuget:System.Text.Json, 8.0.1\"\n",
    "#r \"nuget:DotNetEnv, 3.0.0\"\n",
    "#r \"nuget:Azure.AI.OpenAI, 1.0.0-beta.14\"\n",
    "#r \"nuget:Azure.AI.DocumentIntelligence, 1.0.0-beta.2\"\n",
    "\n",
    "using System.Net;\n",
    "using System.Net.Http;\n",
    "using System.Text.Json.Nodes;\n",
    "using System.Text.Json;\n",
    "using System.IO; \n",
    "using Azure;\n",
    "using Azure.AI.DocumentIntelligence;\n",
    "using Azure.AI.OpenAI;   "
   ]
  },
  {
   "cell_type": "markdown",
   "metadata": {},
   "source": [
    "## Deploy the required services and update the code below to match"
   ]
  },
  {
   "cell_type": "code",
   "execution_count": null,
   "metadata": {
    "dotnet_interactive": {
     "language": "csharp"
    },
    "polyglot_notebook": {
     "kernelName": "csharp"
    }
   },
   "outputs": [],
   "source": [
    "var openAIEndpoint = \"\";\n",
    "var openAIApiKey = \"\";\n",
    "var openAIModelDeployment = \"gpt-4-turbo\";\n",
    "var openAIApiVersion = \"2022-02-15-preview\";\n",
    "var documentIntelligenceEndpoint = \"\";\n",
    "var documentIntelligenceApiKey = \"\";\n",
    "\n",
    "var documentIntelligenceClient = new DocumentIntelligenceClient(new Uri(documentIntelligenceEndpoint), new AzureKeyCredential(documentIntelligenceApiKey));\n",
    "var openAIClient = new OpenAIClient(new Uri(openAIEndpoint), new AzureKeyCredential(openAIApiKey));"
   ]
  },
  {
   "cell_type": "markdown",
   "metadata": {},
   "source": [
    "## Convert the input PDFs into single markdown files in one shot"
   ]
  },
  {
   "cell_type": "code",
   "execution_count": null,
   "metadata": {
    "dotnet_interactive": {
     "language": "csharp"
    },
    "polyglot_notebook": {
     "kernelName": "csharp"
    }
   },
   "outputs": [],
   "source": [
    "// Assuming you have the necessary using directives and the documentIntelligenceClient is already configured\n",
    "\n",
    "string inputFolderPath = @\".\\Input\"; \n",
    "string outputFolderPath = @\".\\ToMarkdownDocIntelligence\";\n",
    "\n",
    "// Ensure the output directory exists\n",
    "if (!Directory.Exists(outputFolderPath))\n",
    "{\n",
    "    Directory.CreateDirectory(outputFolderPath);\n",
    "}\n",
    "\n",
    "// Get all PDF files from the input folder\n",
    "foreach (string pdfFilePath in Directory.GetFiles(inputFolderPath, \"*.pdf\"))\n",
    "{\n",
    "    // Determine the output file path for the Markdown\n",
    "    string outputFileName = Path.GetFileNameWithoutExtension(pdfFilePath) + \".md\";\n",
    "    string outputFilePath = Path.Combine(outputFolderPath, outputFileName);\n",
    "\n",
    "    // Skip the file if the output already exists\n",
    "    if (File.Exists(outputFilePath))\n",
    "    {\n",
    "        Console.WriteLine($\"Skipping {pdfFilePath}, Markdown output already exists.\");\n",
    "        continue;\n",
    "    }\n",
    "\n",
    "    // Load the PDF file\n",
    "    var markdownAnalysisContent = new AnalyzeDocumentContent()\n",
    "    {\n",
    "        Base64Source = BinaryData.FromBytes(File.ReadAllBytes(pdfFilePath))\n",
    "    };\n",
    "\n",
    "    // Analyze the document for Markdown content\n",
    "    var markdownAnalysisOperation = await documentIntelligenceClient.AnalyzeDocumentAsync(\n",
    "        WaitUntil.Completed, \n",
    "        \"prebuilt-layout\", \n",
    "        markdownAnalysisContent, \n",
    "        outputContentFormat: ContentFormat.Markdown);\n",
    "    var markdown = markdownAnalysisOperation.Value.Content;\n",
    "\n",
    "    // Save the Markdown output\n",
    "    File.WriteAllText(outputFilePath, markdown);\n",
    "    Console.WriteLine($\"Processed {pdfFilePath} and saved Markdown to {outputFileName}\");\n",
    "}\n"
   ]
  },
  {
   "cell_type": "markdown",
   "metadata": {},
   "source": [
    "## Convert the single page images from the PDFs into individual markdown files\n",
    "\n",
    "**Note that this requires you to make images using PdfToTextPages.ipynb first!**"
   ]
  },
  {
   "cell_type": "code",
   "execution_count": null,
   "metadata": {
    "dotnet_interactive": {
     "language": "csharp"
    },
    "polyglot_notebook": {
     "kernelName": "csharp"
    }
   },
   "outputs": [],
   "source": [
    "string inputFolderPath = @\".\\ToImages\"; \n",
    "string outputFolderPath = @\".\\ToMarkdownDocIntelligencePages\";\n",
    "\n",
    "// Ensure the output directory exists\n",
    "if (!Directory.Exists(outputFolderPath))\n",
    "{\n",
    "    Directory.CreateDirectory(outputFolderPath);\n",
    "}\n",
    "\n",
    "// Get all subfolders from the input folder\n",
    "foreach (string inputSubfolderPath in Directory.GetDirectories(inputFolderPath))\n",
    "{\n",
    "    // Create corresponding subfolder in the output folder\n",
    "    string subfolderName = Path.GetFileName(inputSubfolderPath);\n",
    "    string outputSubfolderPath = Path.Combine(outputFolderPath, subfolderName);\n",
    "\n",
    "    if (!Directory.Exists(outputSubfolderPath))\n",
    "    {\n",
    "        Directory.CreateDirectory(outputSubfolderPath);\n",
    "    }\n",
    "\n",
    "    // Process each JPEG file in the current subfolder\n",
    "    foreach (string jpegFilePath in Directory.GetFiles(inputSubfolderPath, \"*.jpeg\"))\n",
    "    {\n",
    "        // Determine the output file path for the Markdown\n",
    "        string outputFileName = Path.GetFileNameWithoutExtension(jpegFilePath) + \".md\";\n",
    "        string outputFilePath = Path.Combine(outputSubfolderPath, outputFileName);\n",
    "\n",
    "        // Skip the file if the output already exists\n",
    "        if (File.Exists(outputFilePath))\n",
    "        {\n",
    "            Console.WriteLine($\"Skipping {jpegFilePath}, Markdown output already exists.\");\n",
    "            continue;\n",
    "        }\n",
    "\n",
    "        // Load the JPEG file\n",
    "        var markdownAnalysisContent = new AnalyzeDocumentContent()\n",
    "        {\n",
    "            Base64Source = BinaryData.FromBytes(File.ReadAllBytes(jpegFilePath))\n",
    "        };        \n",
    "\n",
    "        // Analyze the document for Markdown content\n",
    "        var markdownAnalysisOperation = await documentIntelligenceClient.AnalyzeDocumentAsync(\n",
    "            WaitUntil.Completed, \n",
    "            \"prebuilt-layout\", \n",
    "            markdownAnalysisContent,\n",
    "            features: new DocumentAnalysisFeature[] { DocumentAnalysisFeature.OcrHighResolution },\n",
    "            outputContentFormat: ContentFormat.Markdown);\n",
    "        var markdown = markdownAnalysisOperation.Value.Content;\n",
    "\n",
    "        // Save the Markdown output\n",
    "        File.WriteAllText(outputFilePath, markdown);\n",
    "        Console.WriteLine($\"Processed {jpegFilePath} and saved Markdown to {outputFileName}\");\n",
    "    }\n",
    "}\n"
   ]
  },
  {
   "cell_type": "markdown",
   "metadata": {},
   "source": [
    "## Stitch the individual pages into a single markdown file"
   ]
  },
  {
   "cell_type": "code",
   "execution_count": null,
   "metadata": {
    "dotnet_interactive": {
     "language": "csharp"
    },
    "polyglot_notebook": {
     "kernelName": "csharp"
    }
   },
   "outputs": [],
   "source": [
    "// Iterate over each subfolder in the output folder\n",
    "foreach (string outputSubfolderPath in Directory.GetDirectories(outputFolderPath))\n",
    "{\n",
    "    // Get the name of the subfolder to use as the final Markdown file name\n",
    "    string folderName = Path.GetFileName(outputSubfolderPath);\n",
    "    string finalMarkdownFilePath = Path.Combine(outputFolderPath, folderName + \".md\");\n",
    "\n",
    "    // Get all Markdown files in the current subfolder\n",
    "    var markdownFiles = Directory.GetFiles(outputSubfolderPath, \"*.md\");\n",
    "\n",
    "    // Read and concatenate the contents of all Markdown files\n",
    "    var finalMarkdownContent = new StringBuilder();\n",
    "    foreach (string markdownFilePath in markdownFiles)\n",
    "    {\n",
    "        finalMarkdownContent.AppendLine(File.ReadAllText(markdownFilePath));\n",
    "        finalMarkdownContent.AppendLine(\"\\n---\\n\"); // Optional: Add a separator between pages\n",
    "    }\n",
    "\n",
    "    // Save the concatenated content to the final Markdown file\n",
    "    File.WriteAllText(finalMarkdownFilePath, finalMarkdownContent.ToString());\n",
    "    Console.WriteLine($\"Created {finalMarkdownFilePath}\");\n",
    "}"
   ]
  }
 ],
 "metadata": {
  "kernelspec": {
   "display_name": ".NET (C#)",
   "language": "C#",
   "name": ".net-csharp"
  },
  "language_info": {
   "name": "polyglot-notebook"
  },
  "polyglot_notebook": {
   "kernelInfo": {
    "defaultKernelName": "csharp",
    "items": [
     {
      "aliases": [],
      "languageName": "csharp",
      "name": "csharp"
     }
    ]
   }
  }
 },
 "nbformat": 4,
 "nbformat_minor": 2
}
