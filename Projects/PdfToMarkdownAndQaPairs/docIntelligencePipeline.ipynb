{
 "cells": [
  {
   "cell_type": "code",
   "execution_count": 4,
   "metadata": {
    "dotnet_interactive": {
     "language": "csharp"
    },
    "polyglot_notebook": {
     "kernelName": "csharp"
    }
   },
   "outputs": [
    {
     "data": {
      "text/html": [
       "<div><div></div><div></div><div><strong>Installed Packages</strong><ul><li><span>Azure.AI.DocumentIntelligence, 1.0.0-beta.2</span></li><li><span>Azure.AI.OpenAI, 1.0.0-beta.14</span></li><li><span>DotNetEnv, 3.0.0</span></li><li><span>System.Text.Json, 8.0.1</span></li></ul></div></div>"
      ]
     },
     "metadata": {},
     "output_type": "display_data"
    }
   ],
   "source": [
    "#r \"nuget:System.Text.Json, 8.0.1\"\n",
    "#r \"nuget:DotNetEnv, 3.0.0\"\n",
    "#r \"nuget:Azure.AI.OpenAI, 1.0.0-beta.14\"\n",
    "#r \"nuget:Azure.AI.DocumentIntelligence, 1.0.0-beta.2\""
   ]
  },
  {
   "cell_type": "code",
   "execution_count": 5,
   "metadata": {
    "dotnet_interactive": {
     "language": "csharp"
    },
    "polyglot_notebook": {
     "kernelName": "csharp"
    }
   },
   "outputs": [],
   "source": [
    "using System.Net;\n",
    "using System.Net.Http;\n",
    "using System.Text.Json.Nodes;\n",
    "using System.Text.Json;\n",
    "using System.IO; \n",
    "\n",
    "using Azure;\n",
    "using Azure.AI.DocumentIntelligence;\n",
    "using Azure.AI.OpenAI;\n",
    "\n",
    "     "
   ]
  },
  {
   "cell_type": "code",
   "execution_count": 6,
   "metadata": {
    "dotnet_interactive": {
     "language": "csharp"
    },
    "polyglot_notebook": {
     "kernelName": "csharp"
    }
   },
   "outputs": [],
   "source": [
    "var openAIEndpoint = \"\";\n",
    "var openAIApiKey = \"\";\n",
    "var openAIModelDeployment = \"gpt-4-turbo\";\n",
    "var openAIApiVersion = \"2022-02-15-preview\";\n",
    "var documentIntelligenceEndpoint = \"\";\n",
    "var documentIntelligenceApiKey = \"\";\n",
    "\n",
    "var documentIntelligenceClient = new DocumentIntelligenceClient(new Uri(documentIntelligenceEndpoint), new AzureKeyCredential(documentIntelligenceApiKey));\n",
    "var openAIClient = new OpenAIClient(new Uri(openAIEndpoint), new AzureKeyCredential(openAIApiKey));"
   ]
  },
  {
   "cell_type": "code",
   "execution_count": 7,
   "metadata": {
    "dotnet_interactive": {
     "language": "csharp"
    },
    "polyglot_notebook": {
     "kernelName": "csharp"
    }
   },
   "outputs": [
    {
     "name": "stdout",
     "output_type": "stream",
     "text": [
      "Processed .\\Input\\entra-identity-multi-tenant-organizations.pdf and saved Markdown to entra-identity-multi-tenant-organizations.md\n",
      "Processed .\\Input\\EP New Hire QDIA 2024 11.15.23 FINAL.pdf and saved Markdown to EP New Hire QDIA 2024 11.15.23 FINAL.md\n"
     ]
    }
   ],
   "source": [
    "// Assuming you have the necessary using directives and the documentIntelligenceClient is already configured\n",
    "\n",
    "string inputFolderPath = @\".\\Input\"; \n",
    "string outputFolderPath = @\".\\ToMarkdownDocIntelligence\";\n",
    "\n",
    "// Ensure the output directory exists\n",
    "if (!Directory.Exists(outputFolderPath))\n",
    "{\n",
    "    Directory.CreateDirectory(outputFolderPath);\n",
    "}\n",
    "\n",
    "// Get all PDF files from the input folder\n",
    "foreach (string pdfFilePath in Directory.GetFiles(inputFolderPath, \"*.pdf\"))\n",
    "{\n",
    "    // Determine the output file path for the Markdown\n",
    "    string outputFileName = Path.GetFileNameWithoutExtension(pdfFilePath) + \".md\";\n",
    "    string outputFilePath = Path.Combine(outputFolderPath, outputFileName);\n",
    "\n",
    "    // Skip the file if the output already exists\n",
    "    if (File.Exists(outputFilePath))\n",
    "    {\n",
    "        Console.WriteLine($\"Skipping {pdfFilePath}, Markdown output already exists.\");\n",
    "        continue;\n",
    "    }\n",
    "\n",
    "    // Load the PDF file\n",
    "    var markdownAnalysisContent = new AnalyzeDocumentContent()\n",
    "    {\n",
    "        Base64Source = BinaryData.FromBytes(File.ReadAllBytes(pdfFilePath))\n",
    "    };\n",
    "\n",
    "    // Analyze the document for Markdown content\n",
    "    var markdownAnalysisOperation = await documentIntelligenceClient.AnalyzeDocumentAsync(\n",
    "        WaitUntil.Completed, \n",
    "        \"prebuilt-layout\", \n",
    "        markdownAnalysisContent, \n",
    "        outputContentFormat: ContentFormat.Markdown);\n",
    "    var markdown = markdownAnalysisOperation.Value.Content;\n",
    "\n",
    "    // Save the Markdown output\n",
    "    File.WriteAllText(outputFilePath, markdown);\n",
    "    Console.WriteLine($\"Processed {pdfFilePath} and saved Markdown to {outputFileName}\");\n",
    "}\n"
   ]
  },
  {
   "cell_type": "code",
   "execution_count": 8,
   "metadata": {
    "dotnet_interactive": {
     "language": "csharp"
    },
    "polyglot_notebook": {
     "kernelName": "csharp"
    }
   },
   "outputs": [
    {
     "name": "stdout",
     "output_type": "stream",
     "text": [
      "Processed .\\ToImages\\entra-identity-multi-tenant-organizations\\Page_001.jpeg and saved Markdown to Page_001.md\n",
      "Processed .\\ToImages\\entra-identity-multi-tenant-organizations\\Page_002.jpeg and saved Markdown to Page_002.md\n",
      "Processed .\\ToImages\\entra-identity-multi-tenant-organizations\\Page_003.jpeg and saved Markdown to Page_003.md\n",
      "Processed .\\ToImages\\entra-identity-multi-tenant-organizations\\Page_004.jpeg and saved Markdown to Page_004.md\n",
      "Processed .\\ToImages\\entra-identity-multi-tenant-organizations\\Page_005.jpeg and saved Markdown to Page_005.md\n",
      "Processed .\\ToImages\\entra-identity-multi-tenant-organizations\\Page_006.jpeg and saved Markdown to Page_006.md\n",
      "Processed .\\ToImages\\entra-identity-multi-tenant-organizations\\Page_007.jpeg and saved Markdown to Page_007.md\n",
      "Processed .\\ToImages\\entra-identity-multi-tenant-organizations\\Page_008.jpeg and saved Markdown to Page_008.md\n",
      "Processed .\\ToImages\\entra-identity-multi-tenant-organizations\\Page_009.jpeg and saved Markdown to Page_009.md\n",
      "Processed .\\ToImages\\entra-identity-multi-tenant-organizations\\Page_010.jpeg and saved Markdown to Page_010.md\n",
      "Processed .\\ToImages\\entra-identity-multi-tenant-organizations\\Page_011.jpeg and saved Markdown to Page_011.md\n",
      "Processed .\\ToImages\\entra-identity-multi-tenant-organizations\\Page_012.jpeg and saved Markdown to Page_012.md\n",
      "Processed .\\ToImages\\entra-identity-multi-tenant-organizations\\Page_013.jpeg and saved Markdown to Page_013.md\n",
      "Processed .\\ToImages\\entra-identity-multi-tenant-organizations\\Page_014.jpeg and saved Markdown to Page_014.md\n",
      "Processed .\\ToImages\\entra-identity-multi-tenant-organizations\\Page_015.jpeg and saved Markdown to Page_015.md\n",
      "Processed .\\ToImages\\entra-identity-multi-tenant-organizations\\Page_016.jpeg and saved Markdown to Page_016.md\n",
      "Processed .\\ToImages\\entra-identity-multi-tenant-organizations\\Page_017.jpeg and saved Markdown to Page_017.md\n",
      "Processed .\\ToImages\\entra-identity-multi-tenant-organizations\\Page_018.jpeg and saved Markdown to Page_018.md\n",
      "Processed .\\ToImages\\entra-identity-multi-tenant-organizations\\Page_019.jpeg and saved Markdown to Page_019.md\n",
      "Processed .\\ToImages\\entra-identity-multi-tenant-organizations\\Page_020.jpeg and saved Markdown to Page_020.md\n",
      "Processed .\\ToImages\\entra-identity-multi-tenant-organizations\\Page_021.jpeg and saved Markdown to Page_021.md\n",
      "Processed .\\ToImages\\entra-identity-multi-tenant-organizations\\Page_022.jpeg and saved Markdown to Page_022.md\n",
      "Processed .\\ToImages\\entra-identity-multi-tenant-organizations\\Page_023.jpeg and saved Markdown to Page_023.md\n",
      "Processed .\\ToImages\\entra-identity-multi-tenant-organizations\\Page_024.jpeg and saved Markdown to Page_024.md\n",
      "Processed .\\ToImages\\entra-identity-multi-tenant-organizations\\Page_025.jpeg and saved Markdown to Page_025.md\n",
      "Processed .\\ToImages\\entra-identity-multi-tenant-organizations\\Page_026.jpeg and saved Markdown to Page_026.md\n",
      "Processed .\\ToImages\\entra-identity-multi-tenant-organizations\\Page_027.jpeg and saved Markdown to Page_027.md\n",
      "Processed .\\ToImages\\entra-identity-multi-tenant-organizations\\Page_028.jpeg and saved Markdown to Page_028.md\n",
      "Processed .\\ToImages\\entra-identity-multi-tenant-organizations\\Page_029.jpeg and saved Markdown to Page_029.md\n",
      "Processed .\\ToImages\\entra-identity-multi-tenant-organizations\\Page_030.jpeg and saved Markdown to Page_030.md\n",
      "Processed .\\ToImages\\entra-identity-multi-tenant-organizations\\Page_031.jpeg and saved Markdown to Page_031.md\n",
      "Processed .\\ToImages\\entra-identity-multi-tenant-organizations\\Page_032.jpeg and saved Markdown to Page_032.md\n",
      "Processed .\\ToImages\\entra-identity-multi-tenant-organizations\\Page_033.jpeg and saved Markdown to Page_033.md\n",
      "Processed .\\ToImages\\entra-identity-multi-tenant-organizations\\Page_034.jpeg and saved Markdown to Page_034.md\n",
      "Processed .\\ToImages\\entra-identity-multi-tenant-organizations\\Page_035.jpeg and saved Markdown to Page_035.md\n",
      "Processed .\\ToImages\\entra-identity-multi-tenant-organizations\\Page_036.jpeg and saved Markdown to Page_036.md\n",
      "Processed .\\ToImages\\entra-identity-multi-tenant-organizations\\Page_037.jpeg and saved Markdown to Page_037.md\n",
      "Processed .\\ToImages\\entra-identity-multi-tenant-organizations\\Page_038.jpeg and saved Markdown to Page_038.md\n",
      "Processed .\\ToImages\\entra-identity-multi-tenant-organizations\\Page_039.jpeg and saved Markdown to Page_039.md\n",
      "Processed .\\ToImages\\entra-identity-multi-tenant-organizations\\Page_040.jpeg and saved Markdown to Page_040.md\n",
      "Processed .\\ToImages\\entra-identity-multi-tenant-organizations\\Page_041.jpeg and saved Markdown to Page_041.md\n",
      "Processed .\\ToImages\\entra-identity-multi-tenant-organizations\\Page_042.jpeg and saved Markdown to Page_042.md\n",
      "Processed .\\ToImages\\entra-identity-multi-tenant-organizations\\Page_043.jpeg and saved Markdown to Page_043.md\n",
      "Processed .\\ToImages\\entra-identity-multi-tenant-organizations\\Page_044.jpeg and saved Markdown to Page_044.md\n",
      "Processed .\\ToImages\\entra-identity-multi-tenant-organizations\\Page_045.jpeg and saved Markdown to Page_045.md\n",
      "Processed .\\ToImages\\entra-identity-multi-tenant-organizations\\Page_046.jpeg and saved Markdown to Page_046.md\n",
      "Processed .\\ToImages\\entra-identity-multi-tenant-organizations\\Page_047.jpeg and saved Markdown to Page_047.md\n",
      "Processed .\\ToImages\\entra-identity-multi-tenant-organizations\\Page_048.jpeg and saved Markdown to Page_048.md\n",
      "Processed .\\ToImages\\entra-identity-multi-tenant-organizations\\Page_049.jpeg and saved Markdown to Page_049.md\n",
      "Processed .\\ToImages\\entra-identity-multi-tenant-organizations\\Page_050.jpeg and saved Markdown to Page_050.md\n",
      "Processed .\\ToImages\\entra-identity-multi-tenant-organizations\\Page_051.jpeg and saved Markdown to Page_051.md\n",
      "Processed .\\ToImages\\entra-identity-multi-tenant-organizations\\Page_052.jpeg and saved Markdown to Page_052.md\n",
      "Processed .\\ToImages\\entra-identity-multi-tenant-organizations\\Page_053.jpeg and saved Markdown to Page_053.md\n",
      "Processed .\\ToImages\\entra-identity-multi-tenant-organizations\\Page_054.jpeg and saved Markdown to Page_054.md\n",
      "Processed .\\ToImages\\entra-identity-multi-tenant-organizations\\Page_055.jpeg and saved Markdown to Page_055.md\n",
      "Processed .\\ToImages\\entra-identity-multi-tenant-organizations\\Page_056.jpeg and saved Markdown to Page_056.md\n",
      "Processed .\\ToImages\\entra-identity-multi-tenant-organizations\\Page_057.jpeg and saved Markdown to Page_057.md\n",
      "Processed .\\ToImages\\entra-identity-multi-tenant-organizations\\Page_058.jpeg and saved Markdown to Page_058.md\n",
      "Processed .\\ToImages\\entra-identity-multi-tenant-organizations\\Page_059.jpeg and saved Markdown to Page_059.md\n",
      "Processed .\\ToImages\\entra-identity-multi-tenant-organizations\\Page_060.jpeg and saved Markdown to Page_060.md\n",
      "Processed .\\ToImages\\entra-identity-multi-tenant-organizations\\Page_061.jpeg and saved Markdown to Page_061.md\n",
      "Processed .\\ToImages\\entra-identity-multi-tenant-organizations\\Page_062.jpeg and saved Markdown to Page_062.md\n",
      "Processed .\\ToImages\\entra-identity-multi-tenant-organizations\\Page_063.jpeg and saved Markdown to Page_063.md\n",
      "Processed .\\ToImages\\entra-identity-multi-tenant-organizations\\Page_064.jpeg and saved Markdown to Page_064.md\n",
      "Processed .\\ToImages\\entra-identity-multi-tenant-organizations\\Page_065.jpeg and saved Markdown to Page_065.md\n",
      "Processed .\\ToImages\\entra-identity-multi-tenant-organizations\\Page_066.jpeg and saved Markdown to Page_066.md\n",
      "Processed .\\ToImages\\entra-identity-multi-tenant-organizations\\Page_067.jpeg and saved Markdown to Page_067.md\n",
      "Processed .\\ToImages\\entra-identity-multi-tenant-organizations\\Page_068.jpeg and saved Markdown to Page_068.md\n",
      "Processed .\\ToImages\\entra-identity-multi-tenant-organizations\\Page_069.jpeg and saved Markdown to Page_069.md\n",
      "Processed .\\ToImages\\entra-identity-multi-tenant-organizations\\Page_070.jpeg and saved Markdown to Page_070.md\n",
      "Processed .\\ToImages\\entra-identity-multi-tenant-organizations\\Page_071.jpeg and saved Markdown to Page_071.md\n",
      "Processed .\\ToImages\\entra-identity-multi-tenant-organizations\\Page_072.jpeg and saved Markdown to Page_072.md\n",
      "Processed .\\ToImages\\entra-identity-multi-tenant-organizations\\Page_073.jpeg and saved Markdown to Page_073.md\n",
      "Processed .\\ToImages\\entra-identity-multi-tenant-organizations\\Page_074.jpeg and saved Markdown to Page_074.md\n",
      "Processed .\\ToImages\\entra-identity-multi-tenant-organizations\\Page_075.jpeg and saved Markdown to Page_075.md\n",
      "Processed .\\ToImages\\entra-identity-multi-tenant-organizations\\Page_076.jpeg and saved Markdown to Page_076.md\n",
      "Processed .\\ToImages\\entra-identity-multi-tenant-organizations\\Page_077.jpeg and saved Markdown to Page_077.md\n",
      "Processed .\\ToImages\\entra-identity-multi-tenant-organizations\\Page_078.jpeg and saved Markdown to Page_078.md\n",
      "Processed .\\ToImages\\entra-identity-multi-tenant-organizations\\Page_079.jpeg and saved Markdown to Page_079.md\n",
      "Processed .\\ToImages\\entra-identity-multi-tenant-organizations\\Page_080.jpeg and saved Markdown to Page_080.md\n",
      "Processed .\\ToImages\\entra-identity-multi-tenant-organizations\\Page_081.jpeg and saved Markdown to Page_081.md\n",
      "Processed .\\ToImages\\entra-identity-multi-tenant-organizations\\Page_082.jpeg and saved Markdown to Page_082.md\n",
      "Processed .\\ToImages\\entra-identity-multi-tenant-organizations\\Page_083.jpeg and saved Markdown to Page_083.md\n",
      "Processed .\\ToImages\\entra-identity-multi-tenant-organizations\\Page_084.jpeg and saved Markdown to Page_084.md\n",
      "Processed .\\ToImages\\entra-identity-multi-tenant-organizations\\Page_085.jpeg and saved Markdown to Page_085.md\n",
      "Processed .\\ToImages\\entra-identity-multi-tenant-organizations\\Page_086.jpeg and saved Markdown to Page_086.md\n",
      "Processed .\\ToImages\\entra-identity-multi-tenant-organizations\\Page_087.jpeg and saved Markdown to Page_087.md\n",
      "Processed .\\ToImages\\entra-identity-multi-tenant-organizations\\Page_088.jpeg and saved Markdown to Page_088.md\n",
      "Processed .\\ToImages\\entra-identity-multi-tenant-organizations\\Page_089.jpeg and saved Markdown to Page_089.md\n",
      "Processed .\\ToImages\\entra-identity-multi-tenant-organizations\\Page_090.jpeg and saved Markdown to Page_090.md\n",
      "Processed .\\ToImages\\entra-identity-multi-tenant-organizations\\Page_091.jpeg and saved Markdown to Page_091.md\n",
      "Processed .\\ToImages\\entra-identity-multi-tenant-organizations\\Page_092.jpeg and saved Markdown to Page_092.md\n",
      "Processed .\\ToImages\\entra-identity-multi-tenant-organizations\\Page_093.jpeg and saved Markdown to Page_093.md\n",
      "Processed .\\ToImages\\entra-identity-multi-tenant-organizations\\Page_094.jpeg and saved Markdown to Page_094.md\n",
      "Processed .\\ToImages\\entra-identity-multi-tenant-organizations\\Page_095.jpeg and saved Markdown to Page_095.md\n",
      "Processed .\\ToImages\\entra-identity-multi-tenant-organizations\\Page_096.jpeg and saved Markdown to Page_096.md\n",
      "Processed .\\ToImages\\entra-identity-multi-tenant-organizations\\Page_097.jpeg and saved Markdown to Page_097.md\n",
      "Processed .\\ToImages\\entra-identity-multi-tenant-organizations\\Page_098.jpeg and saved Markdown to Page_098.md\n",
      "Processed .\\ToImages\\entra-identity-multi-tenant-organizations\\Page_099.jpeg and saved Markdown to Page_099.md\n",
      "Processed .\\ToImages\\entra-identity-multi-tenant-organizations\\Page_100.jpeg and saved Markdown to Page_100.md\n",
      "Processed .\\ToImages\\entra-identity-multi-tenant-organizations\\Page_101.jpeg and saved Markdown to Page_101.md\n",
      "Processed .\\ToImages\\entra-identity-multi-tenant-organizations\\Page_102.jpeg and saved Markdown to Page_102.md\n",
      "Processed .\\ToImages\\entra-identity-multi-tenant-organizations\\Page_103.jpeg and saved Markdown to Page_103.md\n",
      "Processed .\\ToImages\\entra-identity-multi-tenant-organizations\\Page_104.jpeg and saved Markdown to Page_104.md\n",
      "Processed .\\ToImages\\entra-identity-multi-tenant-organizations\\Page_105.jpeg and saved Markdown to Page_105.md\n",
      "Processed .\\ToImages\\entra-identity-multi-tenant-organizations\\Page_106.jpeg and saved Markdown to Page_106.md\n",
      "Processed .\\ToImages\\entra-identity-multi-tenant-organizations\\Page_107.jpeg and saved Markdown to Page_107.md\n",
      "Processed .\\ToImages\\entra-identity-multi-tenant-organizations\\Page_108.jpeg and saved Markdown to Page_108.md\n",
      "Processed .\\ToImages\\entra-identity-multi-tenant-organizations\\Page_109.jpeg and saved Markdown to Page_109.md\n",
      "Processed .\\ToImages\\entra-identity-multi-tenant-organizations\\Page_110.jpeg and saved Markdown to Page_110.md\n",
      "Processed .\\ToImages\\entra-identity-multi-tenant-organizations\\Page_111.jpeg and saved Markdown to Page_111.md\n",
      "Processed .\\ToImages\\entra-identity-multi-tenant-organizations\\Page_112.jpeg and saved Markdown to Page_112.md\n",
      "Processed .\\ToImages\\entra-identity-multi-tenant-organizations\\Page_113.jpeg and saved Markdown to Page_113.md\n",
      "Processed .\\ToImages\\entra-identity-multi-tenant-organizations\\Page_114.jpeg and saved Markdown to Page_114.md\n",
      "Processed .\\ToImages\\entra-identity-multi-tenant-organizations\\Page_115.jpeg and saved Markdown to Page_115.md\n",
      "Processed .\\ToImages\\entra-identity-multi-tenant-organizations\\Page_116.jpeg and saved Markdown to Page_116.md\n",
      "Processed .\\ToImages\\entra-identity-multi-tenant-organizations\\Page_117.jpeg and saved Markdown to Page_117.md\n",
      "Processed .\\ToImages\\entra-identity-multi-tenant-organizations\\Page_118.jpeg and saved Markdown to Page_118.md\n",
      "Processed .\\ToImages\\entra-identity-multi-tenant-organizations\\Page_119.jpeg and saved Markdown to Page_119.md\n",
      "Processed .\\ToImages\\entra-identity-multi-tenant-organizations\\Page_120.jpeg and saved Markdown to Page_120.md\n",
      "Processed .\\ToImages\\entra-identity-multi-tenant-organizations\\Page_121.jpeg and saved Markdown to Page_121.md\n",
      "Processed .\\ToImages\\entra-identity-multi-tenant-organizations\\Page_122.jpeg and saved Markdown to Page_122.md\n",
      "Processed .\\ToImages\\entra-identity-multi-tenant-organizations\\Page_123.jpeg and saved Markdown to Page_123.md\n",
      "Processed .\\ToImages\\entra-identity-multi-tenant-organizations\\Page_124.jpeg and saved Markdown to Page_124.md\n",
      "Processed .\\ToImages\\entra-identity-multi-tenant-organizations\\Page_125.jpeg and saved Markdown to Page_125.md\n",
      "Processed .\\ToImages\\entra-identity-multi-tenant-organizations\\Page_126.jpeg and saved Markdown to Page_126.md\n",
      "Processed .\\ToImages\\entra-identity-multi-tenant-organizations\\Page_127.jpeg and saved Markdown to Page_127.md\n",
      "Processed .\\ToImages\\entra-identity-multi-tenant-organizations\\Page_128.jpeg and saved Markdown to Page_128.md\n",
      "Processed .\\ToImages\\entra-identity-multi-tenant-organizations\\Page_129.jpeg and saved Markdown to Page_129.md\n",
      "Processed .\\ToImages\\entra-identity-multi-tenant-organizations\\Page_130.jpeg and saved Markdown to Page_130.md\n",
      "Processed .\\ToImages\\entra-identity-multi-tenant-organizations\\Page_131.jpeg and saved Markdown to Page_131.md\n",
      "Processed .\\ToImages\\entra-identity-multi-tenant-organizations\\Page_132.jpeg and saved Markdown to Page_132.md\n",
      "Processed .\\ToImages\\entra-identity-multi-tenant-organizations\\Page_133.jpeg and saved Markdown to Page_133.md\n",
      "Processed .\\ToImages\\entra-identity-multi-tenant-organizations\\Page_134.jpeg and saved Markdown to Page_134.md\n",
      "Processed .\\ToImages\\entra-identity-multi-tenant-organizations\\Page_135.jpeg and saved Markdown to Page_135.md\n",
      "Processed .\\ToImages\\entra-identity-multi-tenant-organizations\\Page_136.jpeg and saved Markdown to Page_136.md\n",
      "Processed .\\ToImages\\entra-identity-multi-tenant-organizations\\Page_137.jpeg and saved Markdown to Page_137.md\n",
      "Processed .\\ToImages\\entra-identity-multi-tenant-organizations\\Page_138.jpeg and saved Markdown to Page_138.md\n",
      "Processed .\\ToImages\\entra-identity-multi-tenant-organizations\\Page_139.jpeg and saved Markdown to Page_139.md\n",
      "Processed .\\ToImages\\entra-identity-multi-tenant-organizations\\Page_140.jpeg and saved Markdown to Page_140.md\n",
      "Processed .\\ToImages\\entra-identity-multi-tenant-organizations\\Page_141.jpeg and saved Markdown to Page_141.md\n",
      "Processed .\\ToImages\\entra-identity-multi-tenant-organizations\\Page_142.jpeg and saved Markdown to Page_142.md\n",
      "Processed .\\ToImages\\entra-identity-multi-tenant-organizations\\Page_143.jpeg and saved Markdown to Page_143.md\n",
      "Processed .\\ToImages\\entra-identity-multi-tenant-organizations\\Page_144.jpeg and saved Markdown to Page_144.md\n",
      "Processed .\\ToImages\\entra-identity-multi-tenant-organizations\\Page_145.jpeg and saved Markdown to Page_145.md\n",
      "Processed .\\ToImages\\entra-identity-multi-tenant-organizations\\Page_146.jpeg and saved Markdown to Page_146.md\n",
      "Processed .\\ToImages\\entra-identity-multi-tenant-organizations\\Page_147.jpeg and saved Markdown to Page_147.md\n",
      "Processed .\\ToImages\\entra-identity-multi-tenant-organizations\\Page_148.jpeg and saved Markdown to Page_148.md\n",
      "Processed .\\ToImages\\entra-identity-multi-tenant-organizations\\Page_149.jpeg and saved Markdown to Page_149.md\n",
      "Processed .\\ToImages\\entra-identity-multi-tenant-organizations\\Page_150.jpeg and saved Markdown to Page_150.md\n",
      "Processed .\\ToImages\\entra-identity-multi-tenant-organizations\\Page_151.jpeg and saved Markdown to Page_151.md\n",
      "Processed .\\ToImages\\entra-identity-multi-tenant-organizations\\Page_152.jpeg and saved Markdown to Page_152.md\n",
      "Processed .\\ToImages\\entra-identity-multi-tenant-organizations\\Page_153.jpeg and saved Markdown to Page_153.md\n",
      "Processed .\\ToImages\\entra-identity-multi-tenant-organizations\\Page_154.jpeg and saved Markdown to Page_154.md\n",
      "Processed .\\ToImages\\entra-identity-multi-tenant-organizations\\Page_155.jpeg and saved Markdown to Page_155.md\n",
      "Processed .\\ToImages\\entra-identity-multi-tenant-organizations\\Page_156.jpeg and saved Markdown to Page_156.md\n",
      "Processed .\\ToImages\\entra-identity-multi-tenant-organizations\\Page_157.jpeg and saved Markdown to Page_157.md\n",
      "Processed .\\ToImages\\entra-identity-multi-tenant-organizations\\Page_158.jpeg and saved Markdown to Page_158.md\n",
      "Processed .\\ToImages\\entra-identity-multi-tenant-organizations\\Page_159.jpeg and saved Markdown to Page_159.md\n",
      "Processed .\\ToImages\\entra-identity-multi-tenant-organizations\\Page_160.jpeg and saved Markdown to Page_160.md\n",
      "Processed .\\ToImages\\entra-identity-multi-tenant-organizations\\Page_161.jpeg and saved Markdown to Page_161.md\n",
      "Processed .\\ToImages\\entra-identity-multi-tenant-organizations\\Page_162.jpeg and saved Markdown to Page_162.md\n",
      "Processed .\\ToImages\\entra-identity-multi-tenant-organizations\\Page_163.jpeg and saved Markdown to Page_163.md\n",
      "Processed .\\ToImages\\entra-identity-multi-tenant-organizations\\Page_164.jpeg and saved Markdown to Page_164.md\n",
      "Processed .\\ToImages\\entra-identity-multi-tenant-organizations\\Page_165.jpeg and saved Markdown to Page_165.md\n",
      "Processed .\\ToImages\\entra-identity-multi-tenant-organizations\\Page_166.jpeg and saved Markdown to Page_166.md\n",
      "Processed .\\ToImages\\entra-identity-multi-tenant-organizations\\Page_167.jpeg and saved Markdown to Page_167.md\n",
      "Processed .\\ToImages\\entra-identity-multi-tenant-organizations\\Page_168.jpeg and saved Markdown to Page_168.md\n",
      "Processed .\\ToImages\\entra-identity-multi-tenant-organizations\\Page_169.jpeg and saved Markdown to Page_169.md\n",
      "Processed .\\ToImages\\entra-identity-multi-tenant-organizations\\Page_170.jpeg and saved Markdown to Page_170.md\n",
      "Processed .\\ToImages\\entra-identity-multi-tenant-organizations\\Page_171.jpeg and saved Markdown to Page_171.md\n",
      "Processed .\\ToImages\\entra-identity-multi-tenant-organizations\\Page_172.jpeg and saved Markdown to Page_172.md\n",
      "Processed .\\ToImages\\entra-identity-multi-tenant-organizations\\Page_173.jpeg and saved Markdown to Page_173.md\n",
      "Processed .\\ToImages\\entra-identity-multi-tenant-organizations\\Page_174.jpeg and saved Markdown to Page_174.md\n",
      "Processed .\\ToImages\\entra-identity-multi-tenant-organizations\\Page_175.jpeg and saved Markdown to Page_175.md\n",
      "Processed .\\ToImages\\entra-identity-multi-tenant-organizations\\Page_176.jpeg and saved Markdown to Page_176.md\n",
      "Processed .\\ToImages\\entra-identity-multi-tenant-organizations\\Page_177.jpeg and saved Markdown to Page_177.md\n",
      "Processed .\\ToImages\\entra-identity-multi-tenant-organizations\\Page_178.jpeg and saved Markdown to Page_178.md\n",
      "Processed .\\ToImages\\entra-identity-multi-tenant-organizations\\Page_179.jpeg and saved Markdown to Page_179.md\n",
      "Processed .\\ToImages\\entra-identity-multi-tenant-organizations\\Page_180.jpeg and saved Markdown to Page_180.md\n",
      "Processed .\\ToImages\\entra-identity-multi-tenant-organizations\\Page_181.jpeg and saved Markdown to Page_181.md\n",
      "Processed .\\ToImages\\entra-identity-multi-tenant-organizations\\Page_182.jpeg and saved Markdown to Page_182.md\n",
      "Processed .\\ToImages\\entra-identity-multi-tenant-organizations\\Page_183.jpeg and saved Markdown to Page_183.md\n",
      "Processed .\\ToImages\\entra-identity-multi-tenant-organizations\\Page_184.jpeg and saved Markdown to Page_184.md\n",
      "Processed .\\ToImages\\entra-identity-multi-tenant-organizations\\Page_185.jpeg and saved Markdown to Page_185.md\n",
      "Processed .\\ToImages\\entra-identity-multi-tenant-organizations\\Page_186.jpeg and saved Markdown to Page_186.md\n",
      "Processed .\\ToImages\\entra-identity-multi-tenant-organizations\\Page_187.jpeg and saved Markdown to Page_187.md\n",
      "Processed .\\ToImages\\entra-identity-multi-tenant-organizations\\Page_188.jpeg and saved Markdown to Page_188.md\n",
      "Processed .\\ToImages\\entra-identity-multi-tenant-organizations\\Page_189.jpeg and saved Markdown to Page_189.md\n",
      "Processed .\\ToImages\\entra-identity-multi-tenant-organizations\\Page_190.jpeg and saved Markdown to Page_190.md\n",
      "Processed .\\ToImages\\entra-identity-multi-tenant-organizations\\Page_191.jpeg and saved Markdown to Page_191.md\n",
      "Processed .\\ToImages\\entra-identity-multi-tenant-organizations\\Page_192.jpeg and saved Markdown to Page_192.md\n",
      "Processed .\\ToImages\\entra-identity-multi-tenant-organizations\\Page_193.jpeg and saved Markdown to Page_193.md\n",
      "Processed .\\ToImages\\entra-identity-multi-tenant-organizations\\Page_194.jpeg and saved Markdown to Page_194.md\n",
      "Processed .\\ToImages\\entra-identity-multi-tenant-organizations\\Page_195.jpeg and saved Markdown to Page_195.md\n",
      "Processed .\\ToImages\\entra-identity-multi-tenant-organizations\\Page_196.jpeg and saved Markdown to Page_196.md\n",
      "Processed .\\ToImages\\entra-identity-multi-tenant-organizations\\Page_197.jpeg and saved Markdown to Page_197.md\n",
      "Processed .\\ToImages\\entra-identity-multi-tenant-organizations\\Page_198.jpeg and saved Markdown to Page_198.md\n",
      "Processed .\\ToImages\\EP New Hire QDIA 2024 11.15.23 FINAL\\Page_1.jpeg and saved Markdown to Page_1.md\n",
      "Processed .\\ToImages\\EP New Hire QDIA 2024 11.15.23 FINAL\\Page_2.jpeg and saved Markdown to Page_2.md\n",
      "Processed .\\ToImages\\EP New Hire QDIA 2024 11.15.23 FINAL\\Page_3.jpeg and saved Markdown to Page_3.md\n",
      "Processed .\\ToImages\\EP New Hire QDIA 2024 11.15.23 FINAL\\Page_4.jpeg and saved Markdown to Page_4.md\n",
      "Processed .\\ToImages\\EP New Hire QDIA 2024 11.15.23 FINAL\\Page_5.jpeg and saved Markdown to Page_5.md\n"
     ]
    }
   ],
   "source": [
    "string inputFolderPath = @\".\\ToImages\"; \n",
    "string outputFolderPath = @\".\\ToMarkdownDocIntelligencePages\";\n",
    "\n",
    "// Ensure the output directory exists\n",
    "if (!Directory.Exists(outputFolderPath))\n",
    "{\n",
    "    Directory.CreateDirectory(outputFolderPath);\n",
    "}\n",
    "\n",
    "// Get all subfolders from the input folder\n",
    "foreach (string inputSubfolderPath in Directory.GetDirectories(inputFolderPath))\n",
    "{\n",
    "    // Create corresponding subfolder in the output folder\n",
    "    string subfolderName = Path.GetFileName(inputSubfolderPath);\n",
    "    string outputSubfolderPath = Path.Combine(outputFolderPath, subfolderName);\n",
    "\n",
    "    if (!Directory.Exists(outputSubfolderPath))\n",
    "    {\n",
    "        Directory.CreateDirectory(outputSubfolderPath);\n",
    "    }\n",
    "\n",
    "    // Process each JPEG file in the current subfolder\n",
    "    foreach (string jpegFilePath in Directory.GetFiles(inputSubfolderPath, \"*.jpeg\"))\n",
    "    {\n",
    "        // Determine the output file path for the Markdown\n",
    "        string outputFileName = Path.GetFileNameWithoutExtension(jpegFilePath) + \".md\";\n",
    "        string outputFilePath = Path.Combine(outputSubfolderPath, outputFileName);\n",
    "\n",
    "        // Skip the file if the output already exists\n",
    "        if (File.Exists(outputFilePath))\n",
    "        {\n",
    "            Console.WriteLine($\"Skipping {jpegFilePath}, Markdown output already exists.\");\n",
    "            continue;\n",
    "        }\n",
    "\n",
    "        // Load the JPEG file\n",
    "        var markdownAnalysisContent = new AnalyzeDocumentContent()\n",
    "        {\n",
    "            Base64Source = BinaryData.FromBytes(File.ReadAllBytes(jpegFilePath))\n",
    "        };\n",
    "\n",
    "        \n",
    "\n",
    "        // Analyze the document for Markdown content\n",
    "        var markdownAnalysisOperation = await documentIntelligenceClient.AnalyzeDocumentAsync(\n",
    "            WaitUntil.Completed, \n",
    "            \"prebuilt-layout\", \n",
    "            markdownAnalysisContent,\n",
    "            features: new DocumentAnalysisFeature[] { DocumentAnalysisFeature.OcrHighResolution },\n",
    "            outputContentFormat: ContentFormat.Markdown);\n",
    "        var markdown = markdownAnalysisOperation.Value.Content;\n",
    "\n",
    "        // Save the Markdown output\n",
    "        File.WriteAllText(outputFilePath, markdown);\n",
    "        Console.WriteLine($\"Processed {jpegFilePath} and saved Markdown to {outputFileName}\");\n",
    "    }\n",
    "}\n"
   ]
  },
  {
   "cell_type": "code",
   "execution_count": 9,
   "metadata": {
    "dotnet_interactive": {
     "language": "csharp"
    },
    "polyglot_notebook": {
     "kernelName": "csharp"
    }
   },
   "outputs": [
    {
     "name": "stdout",
     "output_type": "stream",
     "text": [
      "Created .\\ToMarkdownDocIntelligencePages\\entra-identity-multi-tenant-organizations.md\n",
      "Created .\\ToMarkdownDocIntelligencePages\\EP New Hire QDIA 2024 11.15.23 FINAL.md\n"
     ]
    }
   ],
   "source": [
    "// Iterate over each subfolder in the output folder\n",
    "foreach (string outputSubfolderPath in Directory.GetDirectories(outputFolderPath))\n",
    "{\n",
    "    // Get the name of the subfolder to use as the final Markdown file name\n",
    "    string folderName = Path.GetFileName(outputSubfolderPath);\n",
    "    string finalMarkdownFilePath = Path.Combine(outputFolderPath, folderName + \".md\");\n",
    "\n",
    "    // Get all Markdown files in the current subfolder\n",
    "    var markdownFiles = Directory.GetFiles(outputSubfolderPath, \"*.md\");\n",
    "\n",
    "    // Read and concatenate the contents of all Markdown files\n",
    "    var finalMarkdownContent = new StringBuilder();\n",
    "    foreach (string markdownFilePath in markdownFiles)\n",
    "    {\n",
    "        finalMarkdownContent.AppendLine(File.ReadAllText(markdownFilePath));\n",
    "        finalMarkdownContent.AppendLine(\"\\n---\\n\"); // Optional: Add a separator between pages\n",
    "    }\n",
    "\n",
    "    // Save the concatenated content to the final Markdown file\n",
    "    File.WriteAllText(finalMarkdownFilePath, finalMarkdownContent.ToString());\n",
    "    Console.WriteLine($\"Created {finalMarkdownFilePath}\");\n",
    "}"
   ]
  }
 ],
 "metadata": {
  "kernelspec": {
   "display_name": ".NET (C#)",
   "language": "C#",
   "name": ".net-csharp"
  },
  "language_info": {
   "name": "polyglot-notebook"
  },
  "polyglot_notebook": {
   "kernelInfo": {
    "defaultKernelName": "csharp",
    "items": [
     {
      "aliases": [],
      "languageName": "csharp",
      "name": "csharp"
     }
    ]
   }
  }
 },
 "nbformat": 4,
 "nbformat_minor": 2
}
