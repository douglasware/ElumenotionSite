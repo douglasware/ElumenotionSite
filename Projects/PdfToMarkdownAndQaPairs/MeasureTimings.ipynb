{
 "cells": [
  {
   "cell_type": "code",
   "execution_count": null,
   "metadata": {},
   "outputs": [],
   "source": [
    "import os\n",
    "from pathlib import Path\n",
    "from datetime import datetime\n",
    "\n",
    "def get_file_creation_time_delta(folder_path):\n",
    "    # Get the path object for the folder\n",
    "    path = Path(folder_path)\n",
    "    \n",
    "    # Retrieve all files in the folder and sort them by their creation time\n",
    "    files = list(path.glob('*'))\n",
    "    files.sort(key=lambda x: x.stat().st_ctime)\n",
    "\n",
    "    # List to store the creation times and deltas\n",
    "    time_deltas = []\n",
    "\n",
    "    # Initialize previous time for the first file\n",
    "    prev_time = None\n",
    "\n",
    "    # Iterate through sorted files and calculate deltas\n",
    "    for file in files:\n",
    "        creation_time = datetime.fromtimestamp(file.stat().st_ctime)\n",
    "        \n",
    "        if prev_time is not None:\n",
    "            delta = (creation_time - prev_time).total_seconds()  # Delta in seconds\n",
    "            time_deltas.append((file.name, f\"{delta:.3f}\"))  # Format delta to 3 decimal places\n",
    "        else:\n",
    "            time_deltas.append((file.name, \"0.000\"))  # First file has no previous file, so delta is 0.000\n",
    "        \n",
    "        prev_time = creation_time  # Update previous time to current file's time\n",
    "\n",
    "    return time_deltas\n",
    "\n",
    "# Example usage\n",
    "folder_path = './ToMarkdownNoOcrGpt4oPlusDocIntel.5/entra-identity-multi-tenant-organizations'\n",
    "deltas = get_file_creation_time_delta(folder_path)\n",
    "for name, delta in deltas:\n",
    "    print(f\"File: {name}, Delta: {delta} s\")\n"
   ]
  },
  {
   "cell_type": "code",
   "execution_count": null,
   "metadata": {},
   "outputs": [],
   "source": [
    "folder_path = './ToMarkdown/entra-identity-multi-tenant-organizations'\n",
    "deltas = get_file_creation_time_delta(folder_path)\n",
    "for name, delta in deltas:\n",
    "    print(f\"File: {name}, Delta: {delta} s\")\n"
   ]
  },
  {
   "cell_type": "code",
   "execution_count": null,
   "metadata": {},
   "outputs": [],
   "source": [
    "folder_path = './ToMarkdownDocIntelligence'\n",
    "deltas = get_file_creation_time_delta(folder_path)\n",
    "for name, delta in deltas:\n",
    "    print(f\"File: {name}, Delta: {delta} s\")\n"
   ]
  }
 ],
 "metadata": {
  "kernelspec": {
   "display_name": "openai",
   "language": "python",
   "name": "python3"
  },
  "language_info": {
   "codemirror_mode": {
    "name": "ipython",
    "version": 3
   },
   "file_extension": ".py",
   "mimetype": "text/x-python",
   "name": "python",
   "nbconvert_exporter": "python",
   "pygments_lexer": "ipython3",
   "version": "3.12.3"
  }
 },
 "nbformat": 4,
 "nbformat_minor": 2
}
