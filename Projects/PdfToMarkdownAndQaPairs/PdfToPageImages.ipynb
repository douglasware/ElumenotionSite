{
 "cells": [
  {
   "cell_type": "code",
   "execution_count": null,
   "metadata": {},
   "outputs": [],
   "source": [
    "# %pip install pdf2image"
   ]
  },
  {
   "cell_type": "code",
   "execution_count": null,
   "metadata": {},
   "outputs": [],
   "source": [
    "import os\n",
    "import glob\n",
    "from pdf2image import convert_from_path\n",
    "\n",
    "def convert_pdfs_to_images(input_path, output_path):\n",
    "    # Check if the input path exists\n",
    "    if not os.path.exists(input_path):\n",
    "        raise ValueError(\"Input path does not exist\")\n",
    "\n",
    "    # Ensure output path exists\n",
    "    if not os.path.exists(output_path):\n",
    "        os.makedirs(output_path)\n",
    "    \n",
    "    # Find all PDF files in the input path\n",
    "    pdf_files = glob.glob(os.path.join(input_path, '*.pdf'))\n",
    "    \n",
    "    for pdf_file in pdf_files:\n",
    "        # Extract the base name for the PDF file to create a folder\n",
    "        base_name = os.path.splitext(os.path.basename(pdf_file))[0]\n",
    "        pdf_output_path = os.path.join(output_path, base_name)\n",
    "        \n",
    "        # Create a directory for the current PDF file\n",
    "        if not os.path.exists(pdf_output_path):\n",
    "            os.makedirs(pdf_output_path)\n",
    "\n",
    "        # Convert PDF to images\n",
    "        print(f\"Converting {pdf_file} to images...\")\n",
    "        images = convert_from_path(pdf_file, dpi=300, fmt='jpeg')\n",
    "        total_pages = len(images)\n",
    "        digits = len(str(total_pages))\n",
    "\n",
    "        # Save each page as a JPEG image\n",
    "        for i, image in enumerate(images):\n",
    "            image_path = os.path.join(pdf_output_path, f\"Page_{str(i+1).zfill(digits)}.jpeg\")\n",
    "            image.save(image_path, \"JPEG\")\n",
    "            print(f\"Page {i+1} saved as image: {image_path}\")\n",
    "\n",
    "# Usage example:\n",
    "# Specify the directory containing PDF files and the output directory\n",
    "input_directory = './Input'\n",
    "output_directory = './ToImages'\n",
    "convert_pdfs_to_images(input_directory, output_directory)\n"
   ]
  }
 ],
 "metadata": {
  "language_info": {
   "name": "python"
  }
 },
 "nbformat": 4,
 "nbformat_minor": 2
}
