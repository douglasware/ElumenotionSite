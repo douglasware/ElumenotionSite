{
 "cells": [
  {
   "cell_type": "markdown",
   "metadata": {},
   "source": [
    "# This notebook uses [moviepy](https://pypi.org/project/moviepy/) to extract mp3 from mp4"
   ]
  },
  {
   "cell_type": "code",
   "execution_count": null,
   "metadata": {},
   "outputs": [],
   "source": [
    "%pip install moviepy"
   ]
  },
  {
   "cell_type": "markdown",
   "metadata": {},
   "source": [
    "## Process all mp4's in ./Video to ./Audio"
   ]
  },
  {
   "cell_type": "code",
   "execution_count": null,
   "metadata": {},
   "outputs": [
    {
     "ename": "",
     "evalue": "",
     "output_type": "error",
     "traceback": [
      "\u001b[1;31mThe Kernel crashed while executing code in the current cell or a previous cell. \n",
      "\u001b[1;31mPlease review the code in the cell(s) to identify a possible cause of the failure. \n",
      "\u001b[1;31mClick <a href='https://aka.ms/vscodeJupyterKernelCrash'>here</a> for more info. \n",
      "\u001b[1;31mView Jupyter <a href='command:jupyter.viewOutput'>log</a> for further details."
     ]
    }
   ],
   "source": [
    "from moviepy.editor import VideoFileClip\n",
    "import os\n",
    "\n",
    "def extract_audio(video_file, output_audio_file):\n",
    "    video = VideoFileClip(video_file)\n",
    "    audio = video.audio\n",
    "    # Ensure the audio is in mono by setting nchannels to 1\n",
    "    audio.write_audiofile(output_audio_file, codec='mp3', ffmpeg_params=[\"-ac\", \"1\"])\n",
    "    audio.close()\n",
    "    video.close()\n",
    "\n",
    "def process_folder(input_folder, output_folder):\n",
    "    for file in os.listdir(input_folder):\n",
    "        if file.endswith(\".mp4\"):\n",
    "            video_path = os.path.join(input_folder, file)\n",
    "            audio_path = os.path.join(output_folder, os.path.splitext(file)[0] + '.mp3')\n",
    "            extract_audio(video_path, audio_path)\n",
    "            print(f\"Processed {file}\")\n",
    "\n",
    "process_folder('./video', './audio')\n"
   ]
  }
 ],
 "metadata": {
  "kernelspec": {
   "display_name": "openai",
   "language": "python",
   "name": "python3"
  },
  "language_info": {
   "codemirror_mode": {
    "name": "ipython",
    "version": 3
   },
   "file_extension": ".py",
   "mimetype": "text/x-python",
   "name": "python",
   "nbconvert_exporter": "python",
   "pygments_lexer": "ipython3",
   "version": "3.12.3"
  }
 },
 "nbformat": 4,
 "nbformat_minor": 2
}
