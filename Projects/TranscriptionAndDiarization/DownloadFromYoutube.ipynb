{
 "cells": [
  {
   "cell_type": "markdown",
   "metadata": {},
   "source": [
    "# Download from Youtube with [pytube](https://pytube.io/en/latest/index.html)"
   ]
  },
  {
   "cell_type": "code",
   "execution_count": 1,
   "metadata": {},
   "outputs": [
    {
     "name": "stdout",
     "output_type": "stream",
     "text": [
      "Collecting pytube\n",
      "  Downloading pytube-15.0.0-py3-none-any.whl.metadata (5.0 kB)\n",
      "Downloading pytube-15.0.0-py3-none-any.whl (57 kB)\n",
      "   ---------------------------------------- 0.0/57.6 kB ? eta -:--:--\n",
      "   ---------------------------------------- 57.6/57.6 kB 1.5 MB/s eta 0:00:00\n",
      "Installing collected packages: pytube\n",
      "Successfully installed pytube-15.0.0\n",
      "Note: you may need to restart the kernel to use updated packages.\n"
     ]
    }
   ],
   "source": [
    "%pip install pytube"
   ]
  },
  {
   "cell_type": "markdown",
   "metadata": {},
   "source": [
    "## Update video_url for the video you want to download\n",
    "\n",
    "Note that pytube can download just the audio instead. This sample uses the video to demonstrate extracting MP3 from MP4"
   ]
  },
  {
   "cell_type": "code",
   "execution_count": 2,
   "metadata": {},
   "outputs": [
    {
     "name": "stdout",
     "output_type": "stream",
     "text": [
      "Download completed!\n"
     ]
    }
   ],
   "source": [
    "from pytube import YouTube\n",
    "\n",
    "# URL of the YouTube video\n",
    "video_url = 'https://www.youtube.com/watch?v=MI9DHkyH8Yk'\n",
    "\n",
    "# Create a YouTube object with the URL\n",
    "yt = YouTube(video_url)\n",
    "\n",
    "# Get the highest resolution stream available\n",
    "stream = yt.streams.get_highest_resolution()\n",
    "\n",
    "# Download the video to the specified folder\n",
    "stream.download(output_path='./video')\n",
    "\n",
    "print(\"Download completed!\")\n"
   ]
  }
 ],
 "metadata": {
  "kernelspec": {
   "display_name": "openai",
   "language": "python",
   "name": "python3"
  },
  "language_info": {
   "codemirror_mode": {
    "name": "ipython",
    "version": 3
   },
   "file_extension": ".py",
   "mimetype": "text/x-python",
   "name": "python",
   "nbconvert_exporter": "python",
   "pygments_lexer": "ipython3",
   "version": "3.12.3"
  }
 },
 "nbformat": 4,
 "nbformat_minor": 2
}
