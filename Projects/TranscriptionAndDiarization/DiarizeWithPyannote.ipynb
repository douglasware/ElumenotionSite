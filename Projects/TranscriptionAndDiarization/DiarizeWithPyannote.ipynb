{
 "cells": [
  {
   "cell_type": "markdown",
   "metadata": {},
   "source": [
    "## This notebook does the diarization and has functions for joining files and extracting text for replacement\n",
    "\n",
    "It uses:\n",
    "- [pyannote](https://pypi.org/project/pyannote.audio/) (and its associared dependencies)\n",
    "\n",
    "You will need to download and install microsoft/Phi-3-medium-4k-instruct-onnx-directml and update the model_path below. If you do not have GPU or are not using Windows, see the Phi-3 docs and set yourself up accordingly.\n",
    "\n",
    "Pyannote.audio is gated on huggingface and requires an account and access key. See https://huggingface.co/pyannote/speaker-diarization-3.1 for instructions."
   ]
  },
  {
   "cell_type": "code",
   "execution_count": null,
   "metadata": {},
   "outputs": [],
   "source": [
    "%pip install --upgrade pyannote.audio"
   ]
  },
  {
   "cell_type": "markdown",
   "metadata": {},
   "source": []
  },
  {
   "cell_type": "code",
   "execution_count": 2,
   "metadata": {},
   "outputs": [
    {
     "name": "stderr",
     "output_type": "stream",
     "text": [
      "The torchaudio backend is switched to 'soundfile'. Note that 'sox_io' is not supported on Windows.\n",
      "The torchaudio backend is switched to 'soundfile'. Note that 'sox_io' is not supported on Windows.\n"
     ]
    },
    {
     "name": "stdout",
     "output_type": "stream",
     "text": [
      "Processed ./Audio\\Developer’sGuidetoCustomizingMicrosoftCopilot-MicrososftBuild2024.mp3, output to ./Transcript\\Developer’s Guide to Customizing Microsoft Copilot - Micrososft Build 2024.rttm\n"
     ]
    }
   ],
   "source": [
    "from pyannote.audio import Pipeline\n",
    "import os\n",
    "import shutil\n",
    "import torch\n",
    "\n",
    "diarization_pipeline = Pipeline.from_pretrained(\n",
    "    \"pyannote/speaker-diarization-3.1\",\n",
    "    use_auth_token=\"[YOUR HF KEY HERE]\")\n",
    "\n",
    "# Send pipeline to GPU (when available)\n",
    "diarization_pipeline.to(torch.device(\"cuda\"))\n",
    "\n",
    "def process_audio(file_path, output_folder):\n",
    "    # Check if the file name contains spaces and handle it\n",
    "    base_name = os.path.splitext(os.path.basename(file_path))[0]\n",
    "    if ' ' in base_name:\n",
    "        # Create a temporary file name by removing spaces\n",
    "        temp_file_path = os.path.join(os.path.dirname(file_path), base_name.replace(' ', '') + os.path.splitext(file_path)[1])\n",
    "        # Copy the original file to the new file with spaces removed\n",
    "        shutil.copyfile(file_path, temp_file_path)\n",
    "        # Use the new file path for processing\n",
    "        file_path = temp_file_path\n",
    "    else:\n",
    "        temp_file_path = None\n",
    "\n",
    "    # Perform diarization using the provided file path\n",
    "    diarization = diarization_pipeline(file_path)\n",
    "    \n",
    "    # Generate the output filename based on the input file's original name\n",
    "    output_file = os.path.join(output_folder, f\"{base_name}.rttm\")\n",
    "    \n",
    "    # Write the diarization output to disk using RTTM format\n",
    "    with open(output_file, \"w\") as rttm:\n",
    "        diarization.write_rttm(rttm)\n",
    "\n",
    "    # Cleanup: if a temporary file was used, delete it\n",
    "    if temp_file_path:\n",
    "        os.remove(temp_file_path)\n",
    "\n",
    "    print(f\"Processed {file_path}, output to {output_file}\")\n",
    "\n",
    "def process_folder(input_folder, output_folder):\n",
    "    # List all files in the given folder\n",
    "    for file_name in os.listdir(input_folder):\n",
    "        # Check if the file is an MP3 file\n",
    "        if file_name.endswith(\".mp3\"):\n",
    "            file_path = os.path.join(input_folder, file_name)\n",
    "            process_audio(file_path, output_folder)\n",
    "\n",
    "process_folder('./Audio', './Transcript')\n"
   ]
  },
  {
   "cell_type": "code",
   "execution_count": 1,
   "metadata": {},
   "outputs": [
    {
     "name": "stdout",
     "output_type": "stream",
     "text": [
      "Processed ./Transcript\\Developer’s Guide to Customizing Microsoft Copilot - Micrososft Build 2024.json and ./Transcript\\Developer’s Guide to Customizing Microsoft Copilot - Micrososft Build 2024.rttm into ./Transcript\\Developer’s Guide to Customizing Microsoft Copilot - Micrososft Build 2024.transcript.txt\n"
     ]
    }
   ],
   "source": [
    "import os\n",
    "import json\n",
    "\n",
    "def read_json(json_file):\n",
    "    with open(json_file, 'r', encoding='utf-8') as file:\n",
    "        return json.load(file)\n",
    "\n",
    "def read_rttm(rttm_file):\n",
    "    rttm_data = []\n",
    "    with open(rttm_file, 'r', encoding='utf-8') as file:\n",
    "        for line in file:\n",
    "            parts = line.strip().split()\n",
    "            rttm_data.append({\n",
    "                \"turn_onset\": float(parts[3]),\n",
    "                \"duration\": float(parts[4]),\n",
    "                \"speaker\": parts[7]\n",
    "            })\n",
    "    return rttm_data\n",
    "\n",
    "def seconds_to_hms(seconds):\n",
    "    h = int(seconds // 3600)\n",
    "    m = int((seconds % 3600) // 60)\n",
    "    s = seconds % 60\n",
    "    return f\"{h:02}:{m:02}:{s:06.3f}\"\n",
    "\n",
    "def match_speaker(json_start, json_end, rttm_data):\n",
    "    best_match = None\n",
    "    max_overlap = -1\n",
    "    \n",
    "    for entry in rttm_data:\n",
    "        rttm_start = entry[\"turn_onset\"]\n",
    "        rttm_end = rttm_start + entry[\"duration\"]\n",
    "\n",
    "        overlap_start = max(json_start, rttm_start)\n",
    "        overlap_end = min(json_end, rttm_end)\n",
    "        overlap_duration = max(0, overlap_end - overlap_start)\n",
    "        \n",
    "        if overlap_duration > max_overlap:\n",
    "            max_overlap = overlap_duration\n",
    "            best_match = entry[\"speaker\"]\n",
    "\n",
    "    return best_match if best_match else \"Unknown\"\n",
    "\n",
    "def process_files(json_file, rttm_file, output_file):\n",
    "    json_data = read_json(json_file)\n",
    "    rttm_data = read_rttm(rttm_file)\n",
    "    \n",
    "    with open(output_file, 'w', encoding='utf-8') as text_file:\n",
    "        previous_end = None  # Track the end time of the previous item\n",
    "        for i, chunk in enumerate(json_data):\n",
    "            start = chunk['timestamp'][0]\n",
    "            if len(chunk['timestamp']) > 1:\n",
    "                end = chunk['timestamp'][1]\n",
    "            \n",
    "            if end == None:\n",
    "                if i == len(json_data) - 1 and previous_end is not None:  # Last item with no end time\n",
    "                    end = previous_end + 5  # Assuming a reasonable default duration\n",
    "                elif i == len(json_data) - 1 and previous_end is None:  # Single item list\n",
    "                    end = start + 5  # Default duration for single item lists\n",
    "                else:\n",
    "                    continue  # If not the last item and no end time, skip\n",
    "            \n",
    "            previous_end = end  # Update the previous end time\n",
    "            speaker = match_speaker(start, end, rttm_data)\n",
    "            formatted_timestamp = f\"({seconds_to_hms(start)}, {seconds_to_hms(end)})\"\n",
    "            text_file.write(f\"[{speaker}] : [{formatted_timestamp}] : {chunk['text']}\\n\")\n",
    "\n",
    "def process_folder(folder_path):\n",
    "    for file_name in os.listdir(folder_path):\n",
    "        if file_name.endswith(\".json\"):\n",
    "            base_name = os.path.splitext(file_name)[0]\n",
    "            json_file = os.path.join(folder_path, file_name)\n",
    "            rttm_file = os.path.join(folder_path, base_name + '.rttm')\n",
    "            output_file = os.path.join(folder_path, base_name + '.transcript.txt')\n",
    "            \n",
    "            if os.path.exists(rttm_file):\n",
    "                process_files(json_file, rttm_file, output_file)\n",
    "                print(f\"Processed {json_file} and {rttm_file} into {output_file}\")\n",
    "            else:\n",
    "                print(f\"Warning: No RTTM file found for {json_file}. Skipping.\")\n",
    "\n",
    "process_folder('./Transcript')\n"
   ]
  },
  {
   "cell_type": "code",
   "execution_count": 2,
   "metadata": {},
   "outputs": [
    {
     "name": "stdout",
     "output_type": "stream",
     "text": [
      "['SPEAKER_00', 'SPEAKER_01']\n"
     ]
    }
   ],
   "source": [
    "import re\n",
    "\n",
    "def list_unique_speakers(file_path):\n",
    "    # Read the content of the file\n",
    "    with open(file_path, 'r') as file:\n",
    "        content = file.read()\n",
    "    \n",
    "    # Find all unique speaker identifiers\n",
    "    speakers = re.findall(r\"\\[SPEAKER_(\\d{2})\\]\", content)\n",
    "    unique_speakers = sorted(set(speakers))\n",
    "    \n",
    "    # Format speakers in the form \"SPEAKER_XX\"\n",
    "    formatted_speakers = [f\"SPEAKER_{speaker}\" for speaker in unique_speakers]\n",
    "    return formatted_speakers\n",
    "\n",
    "\n",
    "print(list_unique_speakers('./Transcript/Developer’s Guide to Customizing Microsoft Copilot - Micrososft Build 2024.transcript.txt'))\n"
   ]
  },
  {
   "cell_type": "code",
   "execution_count": 5,
   "metadata": {},
   "outputs": [
    {
     "name": "stdout",
     "output_type": "stream",
     "text": [
      "[\"[SPEAKER_00] : [(00:00:00.000, 00:00:23.660)] :  All right, everybody. Welcome, welcome, welcome, welcome. First breakout of Build. I'm Barnum Bora, and I lead the developer advocacy team for Microsoft 365 and Copilot Platform.\\n\", '[SPEAKER_00] : [(00:00:23.660, 00:00:24.340)] :  advocacy team for Microsoft 365 and Copilot platform.\\n', '[SPEAKER_00] : [(00:00:27.920, 00:00:28.120)] :  But without further ado, before I come back and do more things,\\n', \"[SPEAKER_00] : [(00:00:31.980, 00:00:36.160)] :  I'm going to hand off to my good friend Jeremy Thake, and he's going to walk you through the first half of this session. Thanks, Barno. I appreciate it. And thank you for coming to Build.\\n\", \"[SPEAKER_01] : [(00:00:37.960, 00:00:40.280)] :  So I'm Jeremy Thake. I'm a\\n\", '[SPEAKER_01] : [(00:00:40.280, 00:00:44.100)] :  principal program manager in the Copilot developer experience team. And a slight\\n']\n",
      "[\"[SPEAKER_00] : [(00:00:00.000, 00:00:23.660)] :  All right, everybody. Welcome, welcome, welcome, welcome. First breakout of Build. I'm Barnum Bora, and I lead the developer advocacy team for Microsoft 365 and Copilot Platform.\\n\", '[SPEAKER_00] : [(00:00:23.660, 00:00:24.340)] :  advocacy team for Microsoft 365 and Copilot platform.\\n', '[SPEAKER_00] : [(00:00:27.920, 00:00:28.120)] :  But without further ado, before I come back and do more things,\\n', \"[SPEAKER_00] : [(00:00:31.980, 00:00:36.160)] :  I'm going to hand off to my good friend Jeremy Thake, and he's going to walk you through the first half of this session. Thanks, Barno. I appreciate it. And thank you for coming to Build.\\n\", \"[SPEAKER_01] : [(00:00:37.960, 00:00:40.280)] :  So I'm Jeremy Thake. I'm a\\n\", '[SPEAKER_01] : [(00:00:40.280, 00:00:44.100)] :  principal program manager in the Copilot developer experience team. And a slight\\n', '[SPEAKER_01] : [(00:00:44.100, 00:00:46.340)] :  plug, you may have heard my voice before.\\n', \"[SPEAKER_01] : [(00:00:46.340, 00:00:49.940)] :  I've run a developer podcast on Microsoft 365 for the last ten years.\\n\", \"[SPEAKER_01] : [(00:00:49.940, 00:00:52.060)] :  And we've just rebooted the show this week.\\n\", \"[SPEAKER_01] : [(00:00:52.060, 00:00:55.700)] :  So if you haven't checked it out, please go on our podcasting apps of choice and download\\n\"]\n"
     ]
    }
   ],
   "source": [
    "def get_context_around_speaker(file_path, speaker):\n",
    "    with open(file_path, 'r') as file:\n",
    "        lines = file.readlines()\n",
    "    \n",
    "    # Find the first occurrence of the speaker\n",
    "    for i, line in enumerate(lines):\n",
    "        if speaker in line:\n",
    "            start_index = max(0, i - 5)  # Ensure start index is within bounds\n",
    "            end_index = min(len(lines), i + 6)  # Ensure end index is within bounds (i+6 for inclusive slicing)\n",
    "            return lines[start_index:end_index]\n",
    "    return []  # Return an empty list if the speaker does not appear\n",
    "\n",
    "print(get_context_around_speaker('./Transcript/Developer’s Guide to Customizing Microsoft Copilot - Micrososft Build 2024.transcript.txt', list_unique_speakers('./Transcript/Developer’s Guide to Customizing Microsoft Copilot - Micrososft Build 2024.transcript.txt')[0]))\n",
    "print(get_context_around_speaker('./Transcript/Developer’s Guide to Customizing Microsoft Copilot - Micrososft Build 2024.transcript.txt', list_unique_speakers('./Transcript/Developer’s Guide to Customizing Microsoft Copilot - Micrososft Build 2024.transcript.txt')[1]))"
   ]
  }
 ],
 "metadata": {
  "kernelspec": {
   "display_name": "asr",
   "language": "python",
   "name": "python3"
  },
  "language_info": {
   "codemirror_mode": {
    "name": "ipython",
    "version": 3
   },
   "file_extension": ".py",
   "mimetype": "text/x-python",
   "name": "python",
   "nbconvert_exporter": "python",
   "pygments_lexer": "ipython3",
   "version": "3.12.3"
  }
 },
 "nbformat": 4,
 "nbformat_minor": 2
}
