{
 "cells": [
  {
   "cell_type": "code",
   "execution_count": null,
   "metadata": {},
   "outputs": [],
   "source": [
    "%pip install --upgrade git+https://github.com/huggingface/transformers.git accelerate"
   ]
  },
  {
   "cell_type": "code",
   "execution_count": null,
   "metadata": {},
   "outputs": [],
   "source": [
    "import torch\n",
    "print(torch.version.cuda)"
   ]
  },
  {
   "cell_type": "markdown",
   "metadata": {},
   "source": [
    "## Set up the pipeline with openai/whisper-large-v3"
   ]
  },
  {
   "cell_type": "code",
   "execution_count": 4,
   "metadata": {},
   "outputs": [
    {
     "name": "stderr",
     "output_type": "stream",
     "text": [
      "Special tokens have been added in the vocabulary, make sure the associated word embeddings are fine-tuned or trained.\n"
     ]
    }
   ],
   "source": [
    "import torch\n",
    "from transformers import AutoModelForSpeechSeq2Seq, AutoProcessor, pipeline\n",
    "\n",
    "\n",
    "device = \"cuda:0\" if torch.cuda.is_available() else \"cpu\"\n",
    "torch_dtype = torch.float16 if torch.cuda.is_available() else torch.float32\n",
    "\n",
    "model_id = \"openai/whisper-large-v3\"\n",
    "\n",
    "model = AutoModelForSpeechSeq2Seq.from_pretrained(\n",
    "    model_id, torch_dtype=torch_dtype, low_cpu_mem_usage=False, use_safetensors=True\n",
    ")\n",
    "model.to(device)\n",
    "\n",
    "processor = AutoProcessor.from_pretrained(model_id)\n",
    "\n",
    "pipe = pipeline(\n",
    "    \"automatic-speech-recognition\",\n",
    "    model=model,\n",
    "    tokenizer=processor.tokenizer,\n",
    "    feature_extractor=processor.feature_extractor,\n",
    "    max_new_tokens=128,\n",
    "    chunk_length_s=30,\n",
    "    batch_size=16,\n",
    "    return_timestamps=True,\n",
    "    torch_dtype=torch_dtype,\n",
    "    device=device,\n",
    ")"
   ]
  },
  {
   "cell_type": "markdown",
   "metadata": {},
   "source": []
  },
  {
   "cell_type": "code",
   "execution_count": 6,
   "metadata": {},
   "outputs": [
    {
     "name": "stderr",
     "output_type": "stream",
     "text": [
      "c:\\Users\\dougl\\miniconda3\\envs\\asr\\Lib\\site-packages\\transformers\\models\\whisper\\modeling_whisper.py:694: UserWarning: 1Torch was not compiled with flash attention. (Triggered internally at C:\\cb\\pytorch_1000000000000\\work\\aten\\src\\ATen\\native\\transformers\\cuda\\sdp_utils.cpp:455.)\n",
      "  attn_output = torch.nn.functional.scaled_dot_product_attention(\n",
      "Due to a bug fix in https://github.com/huggingface/transformers/pull/28687 transcription using a multilingual Whisper will default to language detection followed by transcription instead of translation to English.This might be a breaking change for your use case. If you want to instead always translate your audio to English, make sure to pass `language='en'`.\n",
      "c:\\Users\\dougl\\miniconda3\\envs\\asr\\Lib\\site-packages\\torch\\nn\\modules\\conv.py:306: UserWarning: Plan failed with a cudnnException: CUDNN_BACKEND_EXECUTION_PLAN_DESCRIPTOR: cudnnFinalize Descriptor Failed cudnn_status: CUDNN_STATUS_NOT_SUPPORTED (Triggered internally at C:\\cb\\pytorch_1000000000000\\work\\aten\\src\\ATen\\native\\cudnn\\Conv_v8.cpp:919.)\n",
      "  return F.conv1d(input, weight, bias, self.stride,\n",
      "Whisper did not predict an ending timestamp, which can happen if audio is cut off in the middle of a word. Also make sure WhisperTimeStampLogitsProcessor was used during generation.\n"
     ]
    },
    {
     "name": "stdout",
     "output_type": "stream",
     "text": [
      "Transcription saved to ./Transcript\\Developer’s Guide to Customizing Microsoft Copilot - Micrososft Build 2024.txt\n",
      "Transcription JSON saved to ./Transcript\\Developer’s Guide to Customizing Microsoft Copilot - Micrososft Build 2024.json\n",
      "Processed Developer’s Guide to Customizing Microsoft Copilot - Micrososft Build 2024.mp3\n"
     ]
    }
   ],
   "source": [
    "import os\n",
    "import json\n",
    "\n",
    "def transcribe_and_save(audio_file_path, output_folder):\n",
    "    # Process the audio file using the pipe function\n",
    "    result = pipe(audio_file_path, return_timestamps=True)\n",
    "    # Extract the base name without the extension and create new file names\n",
    "    base_name = os.path.basename(os.path.splitext(audio_file_path)[0])\n",
    "    text_file_name = os.path.join(output_folder, f\"{base_name}.txt\")\n",
    "    json_file_name = os.path.join(output_folder, f\"{base_name}.json\")\n",
    "\n",
    "    # Write the transcription to a text file with timestamps\n",
    "    with open(text_file_name, 'w', encoding='utf-8') as text_file:\n",
    "        for chunk in result[\"chunks\"]:\n",
    "            # Formatting the timestamp\n",
    "            start, end = chunk['timestamp']\n",
    "            timestamp = f\"({start}, {end})\"\n",
    "            text_file.write(f\"[{timestamp}]: {chunk['text']}\\n\")\n",
    "\n",
    "    # Save the transcription as a JSON file\n",
    "    with open(json_file_name, 'w', encoding='utf-8') as json_file:\n",
    "        json.dump(result[\"chunks\"], json_file, indent=4)\n",
    "\n",
    "    print(f\"Transcription saved to {text_file_name}\")\n",
    "    print(f\"Transcription JSON saved to {json_file_name}\")\n",
    "\n",
    "def process_folder(input_folder, output_folder):\n",
    "    for file in os.listdir(input_folder):\n",
    "        if file.endswith(\".mp3\"):\n",
    "            audio_file_path = os.path.join(input_folder, file)\n",
    "            transcribe_and_save(audio_file_path, output_folder)\n",
    "            print(f\"Processed {file}\")\n",
    "\n",
    "# Usage: specify the folder containing the MP3 files and the output folder for transcriptions\n",
    "process_folder('./Audio', './Transcript')\n",
    "\n"
   ]
  }
 ],
 "metadata": {
  "kernelspec": {
   "display_name": "openai",
   "language": "python",
   "name": "python3"
  },
  "language_info": {
   "codemirror_mode": {
    "name": "ipython",
    "version": 3
   },
   "file_extension": ".py",
   "mimetype": "text/x-python",
   "name": "python",
   "nbconvert_exporter": "python",
   "pygments_lexer": "ipython3",
   "version": "3.12.3"
  }
 },
 "nbformat": 4,
 "nbformat_minor": 2
}
